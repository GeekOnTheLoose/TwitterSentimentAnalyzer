{
 "cells": [
  {
   "cell_type": "code",
   "execution_count": 5,
   "metadata": {},
   "outputs": [],
   "source": [
    "from textblob import TextBlob\n",
    "import tweepy"
   ]
  },
  {
   "cell_type": "code",
   "execution_count": 6,
   "metadata": {},
   "outputs": [],
   "source": [
    "\n",
    "#obtain from twitter dashboard\n",
    "\n",
    "consumer_key = 'fM9sSIoN9oTuC65TQTA42AcGh'\n",
    "\n",
    "consumer_secret = 'LeSnaQFeoHeCE8LqCHqDqeSyL6ZVSHz946NzwFpgB4qypTuodr'\n",
    "\n",
    "access_token = '625427849-XFSWT7dRokATsiiuHGHMwigYurnm2hDMTi6FFXye'\n",
    "access_token_secret = 'V5Nt3hnmIuVTZWMEKKS1jHZFDIe2LV0SZDyeJuWVPKpBC'"
   ]
  },
  {
   "cell_type": "code",
   "execution_count": 7,
   "metadata": {},
   "outputs": [],
   "source": [
    "auth = tweepy.OAuthHandler(consumer_key, consumer_secret)\n",
    "auth.set_access_token(access_token, access_token_secret)"
   ]
  },
  {
   "cell_type": "code",
   "execution_count": 8,
   "metadata": {},
   "outputs": [],
   "source": [
    "api = tweepy.API(auth)\n"
   ]
  },
  {
   "cell_type": "code",
   "execution_count": 10,
   "metadata": {},
   "outputs": [
    {
     "name": "stdout",
     "output_type": "stream",
     "text": [
      "RT @shannonrwatts: Friendly reminder: Spanish police turned over to the FBI wiretaps of conversations involving Alexander Torshin, the hand…\n",
      ".............................................................\n",
      "Sentiment(polarity=0.1875, subjectivity=0.25)\n",
      "RT @nickiknowsnada: A Missouri deer poacher received the punishment of having to watch Bambi monthly during his prison sentence.\n",
      "\n",
      "👉 What mo…\n",
      ".............................................................\n",
      "Sentiment(polarity=0.0, subjectivity=0.0)\n",
      "RT @FLOTUS: Merry Christmas from President Donald J. Trump and First Lady Melania Trump. @POTUS &amp; @FLOTUS are seen Saturday, December 15, i…\n",
      ".............................................................\n",
      "Sentiment(polarity=0.25, subjectivity=0.3333333333333333)\n",
      "@Caeltho @twbav8r @FLOTUS @realDonaldTrump @POTUS You kidding me? This country was built on a two party system and… https://t.co/fz24W2x0wu\n",
      ".............................................................\n",
      "Sentiment(polarity=0.0, subjectivity=0.0)\n",
      "Trump directs Pentagon to create 'Space Command' - +GENERAL PHYSICS LABORATORY (GPL)\n",
      "\n",
      "US President Donald Trump on… https://t.co/4FXoFBEZTG\n",
      ".............................................................\n",
      "Sentiment(polarity=0.05000000000000002, subjectivity=0.5)\n",
      "RT @TheTyee: Nature reports that five countries now contain over 70% of the world’s wilderness: Russia, Canada, Australia, the U.S. and Bra…\n",
      ".............................................................\n",
      "Sentiment(polarity=0.0, subjectivity=0.0)\n",
      "RT @NoahBookbinder: The Trump Foundation engaged in improper political activity, lied to the IRS, and improperly worked to enrich Donald Tr…\n",
      ".............................................................\n",
      "Sentiment(polarity=0.0, subjectivity=0.1)\n",
      "RT @John_KissMyBot: Why Did Crooked Hillary Get A Pass ?\n",
      "\n",
      "Trump Wants To Know Why The FBI Didn’t Break Into Hillary’s Office Or The DNC👈The…\n",
      ".............................................................\n",
      "Sentiment(polarity=0.1, subjectivity=0.1)\n",
      "@cyferPtVila @LMLoveExists @elisedawngreen @EdinaDebbie @BeautyAbounds4U @Rose52413 @nereid_niobi @PennyCarrigan1… https://t.co/eD8RcL3I91\n",
      ".............................................................\n",
      "Sentiment(polarity=0.0, subjectivity=0.0)\n",
      "RT @FLOTUS: Merry Christmas from President Donald J. Trump and First Lady Melania Trump. @POTUS &amp; @FLOTUS are seen Saturday, December 15, i…\n",
      ".............................................................\n",
      "Sentiment(polarity=0.25, subjectivity=0.3333333333333333)\n",
      "RT @FLOTUS: Merry Christmas from President Donald J. Trump and First Lady Melania Trump. @POTUS &amp; @FLOTUS are seen Saturday, December 15, i…\n",
      ".............................................................\n",
      "Sentiment(polarity=0.25, subjectivity=0.3333333333333333)\n",
      "RT @CaptainE007: @AndyRichter Not unlike the film, Office Space, Donald Trump is actually trying to get fired, and has been since before th…\n",
      ".............................................................\n",
      "Sentiment(polarity=0.0, subjectivity=0.1)\n",
      "RT @Helena_VillarRT: Donald Trump ordena crear un Comando Espacial. Es una medida diferente a la Fuerza Espacial anunciada hace meses pero…\n",
      ".............................................................\n",
      "Sentiment(polarity=0.0, subjectivity=0.0)\n",
      "RT @jimsciutto: New: Donald J. Trump Foundation has agreed to dissolve amid ongoing lawsuit which includes claims President and his childre…\n",
      ".............................................................\n",
      "Sentiment(polarity=0.13636363636363635, subjectivity=0.45454545454545453)\n",
      "RT @cushbomb: I hope you libs are happy. You forced the Trump Foundation to close and now that orphanage will never get a watercolor painti…\n",
      ".............................................................\n",
      "Sentiment(polarity=0.25, subjectivity=0.6)\n"
     ]
    }
   ],
   "source": [
    "public_tweets = api.search('donald trump')\n",
    "\n",
    "for tweet in public_tweets:\n",
    "    print(tweet.text)\n",
    "    print('.............................................................')\n",
    "    analysis = TextBlob(tweet.text)\n",
    "    print(analysis.sentiment)"
   ]
  },
  {
   "cell_type": "code",
   "execution_count": null,
   "metadata": {},
   "outputs": [],
   "source": []
  }
 ],
 "metadata": {
  "kernelspec": {
   "display_name": "Python 3",
   "language": "python",
   "name": "python3"
  },
  "language_info": {
   "codemirror_mode": {
    "name": "ipython",
    "version": 3
   },
   "file_extension": ".py",
   "mimetype": "text/x-python",
   "name": "python",
   "nbconvert_exporter": "python",
   "pygments_lexer": "ipython3",
   "version": "3.6.7"
  },
  "toc": {
   "base_numbering": 1,
   "nav_menu": {},
   "number_sections": true,
   "sideBar": true,
   "skip_h1_title": false,
   "title_cell": "Table of Contents",
   "title_sidebar": "Contents",
   "toc_cell": false,
   "toc_position": {},
   "toc_section_display": true,
   "toc_window_display": false
  },
  "varInspector": {
   "cols": {
    "lenName": 16,
    "lenType": 16,
    "lenVar": 40
   },
   "kernels_config": {
    "python": {
     "delete_cmd_postfix": "",
     "delete_cmd_prefix": "del ",
     "library": "var_list.py",
     "varRefreshCmd": "print(var_dic_list())"
    },
    "r": {
     "delete_cmd_postfix": ") ",
     "delete_cmd_prefix": "rm(",
     "library": "var_list.r",
     "varRefreshCmd": "cat(var_dic_list()) "
    }
   },
   "types_to_exclude": [
    "module",
    "function",
    "builtin_function_or_method",
    "instance",
    "_Feature"
   ],
   "window_display": false
  }
 },
 "nbformat": 4,
 "nbformat_minor": 2
}
